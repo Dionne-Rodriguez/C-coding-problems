{
 "cells": [
  {
   "cell_type": "code",
   "execution_count": 9,
   "metadata": {},
   "outputs": [
    {
     "name": "stdout",
     "output_type": "stream",
     "text": [
      "1\n"
     ]
    }
   ],
   "source": [
    " using System;\n",
    "\n",
    "\n",
    "\n",
    "int count = 0;\n",
    "        for(var i = 1; i <= 12; i++){\n",
    "            string day = new DateTime(1954,i,13).ToString(\"ddd\");\n",
    "            if(day == \"Fri\"){\n",
    "                count++;\n",
    "                    Console.WriteLine(count);\n",
    "            }\n",
    "            \n",
    "        }"
   ]
  },
  {
   "cell_type": "code",
   "execution_count": 10,
   "metadata": {},
   "outputs": [],
   "source": [
    "// solution\n",
    "using System;\n",
    "public class Kata\n",
    "{\n",
    "  public static int UnluckyDays(int year)\n",
    "  {\n",
    "  int count = 0;\n",
    "        for(var i = 1; i <= 12; i++){\n",
    "            string day = new DateTime(year,i,13).ToString(\"ddd\");\n",
    "            if(day == \"Fri\"){\n",
    "                count++;\n",
    "            }\n",
    "            \n",
    "        }\n",
    "    return count;\n",
    "  }\n",
    "}"
   ]
  },
  {
   "cell_type": "code",
   "execution_count": 19,
   "metadata": {},
   "outputs": [
    {
     "name": "stdout",
     "output_type": "stream",
     "text": [
      "2\n"
     ]
    }
   ],
   "source": [
    "int year = 1996;\n",
    "    int numberOfDays = Enumerable.Range(1,12)\n",
    "    .Select(x => new DateTime(year,x,13).DayOfWeek)\n",
    "    .Where(day => day == DayOfWeek.Friday)\n",
    "    .Count();\n",
    "\n",
    "    Console.WriteLine(numberOfDays);"
   ]
  },
  {
   "cell_type": "code",
   "execution_count": 15,
   "metadata": {},
   "outputs": [],
   "source": [
    "IEnumerable<int> squares = Enumerable.Range(1, 10).Select(x => x * x);\n"
   ]
  },
  {
   "cell_type": "code",
   "execution_count": null,
   "metadata": {},
   "outputs": [],
   "source": [
    "var remove = new Regex(@\"/[#]/\")"
   ]
  }
 ],
 "metadata": {
  "kernelspec": {
   "display_name": ".NET (C#)",
   "language": "C#",
   "name": ".net-csharp"
  },
  "language_info": {
   "file_extension": ".cs",
   "mimetype": "text/x-csharp",
   "name": "C#",
   "pygments_lexer": "csharp",
   "version": "8.0"
  }
 },
 "nbformat": 4,
 "nbformat_minor": 2
}
