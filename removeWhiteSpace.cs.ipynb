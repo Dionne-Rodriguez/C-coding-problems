{
 "cells": [
  {
   "cell_type": "code",
   "execution_count": 10,
   "metadata": {},
   "outputs": [
    {
     "name": "stdout",
     "output_type": "stream",
     "text": [
      "8j8mBliB8gimjB8B8jlB\n",
      "yoo    dfn .\n"
     ]
    }
   ],
   "source": []
  },
  {
   "cell_type": "code",
   "execution_count": null,
   "metadata": {},
   "outputs": [],
   "source": [
    "using System;\n",
    "using System.Text.RegularExpressions;\n",
    "\n",
    "string input = \"8 j 8   mBliB8g  imjB8B8  jl  B\";\n",
    "string txt = \"     yoo    dfn .  \";\n",
    "\n",
    "    Console.WriteLine(Regex.Replace(input, @\"\\s+\", \"\"));\n",
    "        Console.WriteLine(txt.Trim());"
   ]
  },
  {
   "cell_type": "code",
   "execution_count": null,
   "metadata": {},
   "outputs": [],
   "source": []
  }
 ],
 "metadata": {
  "kernelspec": {
   "display_name": ".NET (C#)",
   "language": "C#",
   "name": ".net-csharp"
  },
  "language_info": {
   "file_extension": ".cs",
   "mimetype": "text/x-csharp",
   "name": "C#",
   "pygments_lexer": "csharp",
   "version": "8.0"
  }
 },
 "nbformat": 4,
 "nbformat_minor": 2
}
